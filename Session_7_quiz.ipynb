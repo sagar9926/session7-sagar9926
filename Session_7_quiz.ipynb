{
  "nbformat": 4,
  "nbformat_minor": 0,
  "metadata": {
    "colab": {
      "name": "Session 7 quiz.ipynb",
      "provenance": [],
      "collapsed_sections": [],
      "authorship_tag": "ABX9TyM4tF2SJw7lGiEJO9AIXjc/",
      "include_colab_link": true
    },
    "kernelspec": {
      "name": "python3",
      "display_name": "Python 3"
    }
  },
  "cells": [
    {
      "cell_type": "markdown",
      "metadata": {
        "id": "view-in-github",
        "colab_type": "text"
      },
      "source": [
        "<a href=\"https://colab.research.google.com/github/sagar9926/session7-sagar9926/blob/master/Session_7_quiz.ipynb\" target=\"_parent\"><img src=\"https://colab.research.google.com/assets/colab-badge.svg\" alt=\"Open In Colab\"/></a>"
      ]
    },
    {
      "cell_type": "markdown",
      "metadata": {
        "id": "UfNXRre5Zmv3",
        "colab_type": "text"
      },
      "source": [
        "# Session 7 quiz"
      ]
    },
    {
      "cell_type": "markdown",
      "metadata": {
        "id": "tDZ1FB9hZgu-",
        "colab_type": "text"
      },
      "source": [
        "Your first and last two lines of code are:\n",
        "\n",
        "from datetime import datetime\n",
        "print(datetime.now())\n",
        "\n",
        "Write a list comprehension expression that can generate 25 random DOB in format 11th, Jun, 1992. Take care or th, rd, st, etc (DOB between 1901 to 2020)\n"
      ]
    },
    {
      "cell_type": "code",
      "metadata": {
        "id": "sL_QmUu4RjS4",
        "colab_type": "code",
        "colab": {
          "base_uri": "https://localhost:8080/",
          "height": 34
        },
        "outputId": "51868fe9-af5f-424b-c190-cf89a3beb4cb"
      },
      "source": [
        "from datetime import datetime\n",
        "print(datetime.now())"
      ],
      "execution_count": null,
      "outputs": [
        {
          "output_type": "stream",
          "text": [
            "2020-09-06 16:55:46.596344\n"
          ],
          "name": "stdout"
        }
      ]
    },
    {
      "cell_type": "code",
      "metadata": {
        "id": "ZK4ZO8b_WFLA",
        "colab_type": "code",
        "colab": {}
      },
      "source": [
        "import datetime\n",
        "import random\n",
        "start_date = datetime.date(1901, 1, 1)\n",
        "end_date = datetime.date(2020, 12, 31)\n",
        "\n",
        "time_between_dates = end_date - start_date\n",
        "days_between_dates = time_between_dates.days\n"
      ],
      "execution_count": null,
      "outputs": []
    },
    {
      "cell_type": "code",
      "metadata": {
        "id": "7BaPZDG4WN-s",
        "colab_type": "code",
        "colab": {}
      },
      "source": [
        "date_dict = {\n",
        "1 : \"st\" ,\n",
        "2 : \"nd\" , \n",
        "3 : \"rd\" , \n",
        "4 : \"th\" , \n",
        "5 : \"th\" , \n",
        "6 : \"th\" ,\n",
        "7 : \"th\",\n",
        "8 : \"th\",\n",
        "9 : \"th\",\n",
        "10 : \"th\",\n",
        "11 : \"th\",\n",
        "12 : \"th\",\n",
        "13 : \"th\",\n",
        "14 : \"th\",\n",
        "15 : \"th\",\n",
        "16 : \"th\",\n",
        "17 : \"th\",\n",
        "18 : \"th\",\n",
        "19 : \"th\",\n",
        "20 : \"th\",\n",
        "21 : \"st\",\n",
        "22 : \"nd\",\n",
        "23 : \"rd\",\n",
        "24 : \"th\",\n",
        "25 : \"th\",\n",
        "26 : \"th\",\n",
        "27 : \"th\",\n",
        "28 : \"th\",\n",
        "29 : \"th\",\n",
        "30 : \"th\",\n",
        "31 : \"st\"\n",
        "}\n",
        "\n",
        "month_dict = {\n",
        "         1 : \"Jan\" , \n",
        "         2 : \"Feb\" , \n",
        "         3 : \"Mar\",\n",
        "         4 : \"Apr\",\n",
        "         5 : \"May\",\n",
        "         6 : \"Jun\",\n",
        "         7 : \"Jul\",\n",
        "         8 : \"Aug\",\n",
        "         9 : \"Sep\",\n",
        "         10 : \"Oct\",\n",
        "         11 : \"Nov\",\n",
        "         12 : \"Dec\"\n",
        "        }\n"
      ],
      "execution_count": null,
      "outputs": []
    },
    {
      "cell_type": "code",
      "metadata": {
        "id": "ugPUuxJgWSgp",
        "colab_type": "code",
        "colab": {
          "base_uri": "https://localhost:8080/",
          "height": 54
        },
        "outputId": "07393d1b-0cdf-4d6d-ee30-9aac14aaf4c7"
      },
      "source": [
        "time_between_dates = end_date - start_date\n",
        "days_between_dates = time_between_dates.days\n",
        "\n",
        "print([str(date.day) + str(date_dict[date.day]) + \",\" + str(month_dict[date.month]) + \",\" + str(date.year) for date in [ start_date + datetime.timedelta(days=random.randrange(days_between_dates)) for x in  range(15)]])\n"
      ],
      "execution_count": null,
      "outputs": [
        {
          "output_type": "stream",
          "text": [
            "['8th,Mar,1924', '13th,Nov,1997', '28th,Jan,1976', '13th,Jul,1927', '22nd,Dec,1987', '26th,Oct,1924', '17th,Apr,2020', '22nd,Feb,1948', '23rd,May,2016', '5th,Feb,1924', '24th,Apr,2005', '9th,Feb,1977', '26th,Feb,1938', '19th,Dec,1952', '9th,Jan,1969']\n"
          ],
          "name": "stdout"
        }
      ]
    },
    {
      "cell_type": "code",
      "metadata": {
        "id": "vo3HmOAWWXdT",
        "colab_type": "code",
        "colab": {
          "base_uri": "https://localhost:8080/",
          "height": 34
        },
        "outputId": "abd7b5ce-3ebe-40e8-d5df-d507d6e7b40f"
      },
      "source": [
        "from datetime import datetime\n",
        "print(datetime.now())"
      ],
      "execution_count": null,
      "outputs": [
        {
          "output_type": "stream",
          "text": [
            "2020-09-06 17:02:17.734868\n"
          ],
          "name": "stdout"
        }
      ]
    },
    {
      "cell_type": "code",
      "metadata": {
        "id": "V-OLJ-bkXk50",
        "colab_type": "code",
        "colab": {}
      },
      "source": [
        ""
      ],
      "execution_count": null,
      "outputs": []
    }
  ]
}